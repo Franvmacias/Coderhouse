{
  "cells": [
    {
      "cell_type": "markdown",
      "metadata": {
        "id": "view-in-github",
        "colab_type": "text"
      },
      "source": [
        "<a href=\"https://colab.research.google.com/github/Franvmacias/Coderhouse/blob/main/Pre-entrega_Villagra.ipynb\" target=\"_parent\"><img src=\"https://colab.research.google.com/assets/colab-badge.svg\" alt=\"Open In Colab\"/></a>"
      ]
    },
    {
      "cell_type": "markdown",
      "metadata": {
        "id": "6yExgUYlXKti"
      },
      "source": [
        "# Dataset Casen"
      ]
    },
    {
      "cell_type": "markdown",
      "metadata": {
        "id": "mQi3Zj5P3vXD"
      },
      "source": [
        "### Instalamos líbrerías especializadas"
      ]
    },
    {
      "cell_type": "code",
      "execution_count": 1,
      "metadata": {
        "colab": {
          "base_uri": "https://localhost:8080/"
        },
        "id": "6dmxUdtW3nUD",
        "outputId": "90220219-8683-402c-9c01-990568675f85"
      },
      "outputs": [
        {
          "output_type": "stream",
          "name": "stdout",
          "text": [
            "Collecting pyreadstat\n",
            "  Downloading pyreadstat-1.2.3-cp310-cp310-manylinux_2_17_x86_64.manylinux2014_x86_64.whl (2.8 MB)\n",
            "\u001b[2K     \u001b[90m━━━━━━━━━━━━━━━━━━━━━━━━━━━━━━━━━━━━━━━━\u001b[0m \u001b[32m2.8/2.8 MB\u001b[0m \u001b[31m6.1 MB/s\u001b[0m eta \u001b[36m0:00:00\u001b[0m\n",
            "\u001b[?25hRequirement already satisfied: pandas>=1.2.0 in /usr/local/lib/python3.10/dist-packages (from pyreadstat) (1.5.3)\n",
            "Requirement already satisfied: python-dateutil>=2.8.1 in /usr/local/lib/python3.10/dist-packages (from pandas>=1.2.0->pyreadstat) (2.8.2)\n",
            "Requirement already satisfied: pytz>=2020.1 in /usr/local/lib/python3.10/dist-packages (from pandas>=1.2.0->pyreadstat) (2023.3.post1)\n",
            "Requirement already satisfied: numpy>=1.21.0 in /usr/local/lib/python3.10/dist-packages (from pandas>=1.2.0->pyreadstat) (1.23.5)\n",
            "Requirement already satisfied: six>=1.5 in /usr/local/lib/python3.10/dist-packages (from python-dateutil>=2.8.1->pandas>=1.2.0->pyreadstat) (1.16.0)\n",
            "Installing collected packages: pyreadstat\n",
            "Successfully installed pyreadstat-1.2.3\n"
          ]
        }
      ],
      "source": [
        "pip install pyreadstat"
      ]
    },
    {
      "cell_type": "code",
      "source": [
        "pip install plotly"
      ],
      "metadata": {
        "id": "IIi0CuAv0ihl",
        "colab": {
          "base_uri": "https://localhost:8080/"
        },
        "outputId": "1b5389a0-3857-4411-cc31-04d23c919f28"
      },
      "execution_count": 2,
      "outputs": [
        {
          "output_type": "stream",
          "name": "stdout",
          "text": [
            "Requirement already satisfied: plotly in /usr/local/lib/python3.10/dist-packages (5.15.0)\n",
            "Requirement already satisfied: tenacity>=6.2.0 in /usr/local/lib/python3.10/dist-packages (from plotly) (8.2.3)\n",
            "Requirement already satisfied: packaging in /usr/local/lib/python3.10/dist-packages (from plotly) (23.1)\n"
          ]
        }
      ]
    },
    {
      "cell_type": "code",
      "execution_count": 3,
      "metadata": {
        "colab": {
          "base_uri": "https://localhost:8080/"
        },
        "id": "G5-GQyzrJ-YV",
        "outputId": "40bdd974-1831-4bc1-f0f6-8d6802d012d9"
      },
      "outputs": [
        {
          "output_type": "stream",
          "name": "stdout",
          "text": [
            "Requirement already satisfied: mlxtend in /usr/local/lib/python3.10/dist-packages (0.22.0)\n",
            "Requirement already satisfied: scipy>=1.2.1 in /usr/local/lib/python3.10/dist-packages (from mlxtend) (1.11.2)\n",
            "Requirement already satisfied: numpy>=1.16.2 in /usr/local/lib/python3.10/dist-packages (from mlxtend) (1.23.5)\n",
            "Requirement already satisfied: pandas>=0.24.2 in /usr/local/lib/python3.10/dist-packages (from mlxtend) (1.5.3)\n",
            "Requirement already satisfied: scikit-learn>=1.0.2 in /usr/local/lib/python3.10/dist-packages (from mlxtend) (1.2.2)\n",
            "Requirement already satisfied: matplotlib>=3.0.0 in /usr/local/lib/python3.10/dist-packages (from mlxtend) (3.7.1)\n",
            "Requirement already satisfied: joblib>=0.13.2 in /usr/local/lib/python3.10/dist-packages (from mlxtend) (1.3.2)\n",
            "Requirement already satisfied: setuptools in /usr/local/lib/python3.10/dist-packages (from mlxtend) (67.7.2)\n",
            "Requirement already satisfied: contourpy>=1.0.1 in /usr/local/lib/python3.10/dist-packages (from matplotlib>=3.0.0->mlxtend) (1.1.0)\n",
            "Requirement already satisfied: cycler>=0.10 in /usr/local/lib/python3.10/dist-packages (from matplotlib>=3.0.0->mlxtend) (0.11.0)\n",
            "Requirement already satisfied: fonttools>=4.22.0 in /usr/local/lib/python3.10/dist-packages (from matplotlib>=3.0.0->mlxtend) (4.42.1)\n",
            "Requirement already satisfied: kiwisolver>=1.0.1 in /usr/local/lib/python3.10/dist-packages (from matplotlib>=3.0.0->mlxtend) (1.4.5)\n",
            "Requirement already satisfied: packaging>=20.0 in /usr/local/lib/python3.10/dist-packages (from matplotlib>=3.0.0->mlxtend) (23.1)\n",
            "Requirement already satisfied: pillow>=6.2.0 in /usr/local/lib/python3.10/dist-packages (from matplotlib>=3.0.0->mlxtend) (9.4.0)\n",
            "Requirement already satisfied: pyparsing>=2.3.1 in /usr/local/lib/python3.10/dist-packages (from matplotlib>=3.0.0->mlxtend) (3.1.1)\n",
            "Requirement already satisfied: python-dateutil>=2.7 in /usr/local/lib/python3.10/dist-packages (from matplotlib>=3.0.0->mlxtend) (2.8.2)\n",
            "Requirement already satisfied: pytz>=2020.1 in /usr/local/lib/python3.10/dist-packages (from pandas>=0.24.2->mlxtend) (2023.3.post1)\n",
            "Requirement already satisfied: threadpoolctl>=2.0.0 in /usr/local/lib/python3.10/dist-packages (from scikit-learn>=1.0.2->mlxtend) (3.2.0)\n",
            "Requirement already satisfied: six>=1.5 in /usr/local/lib/python3.10/dist-packages (from python-dateutil>=2.7->matplotlib>=3.0.0->mlxtend) (1.16.0)\n"
          ]
        }
      ],
      "source": [
        "pip install mlxtend"
      ]
    },
    {
      "cell_type": "code",
      "execution_count": 4,
      "metadata": {
        "colab": {
          "base_uri": "https://localhost:8080/"
        },
        "id": "qjDSf8hKqPRl",
        "outputId": "5080dc82-9227-4a45-fe1c-d3e65131bc9b"
      },
      "outputs": [
        {
          "output_type": "stream",
          "name": "stdout",
          "text": [
            "Collecting ppscore\n",
            "  Downloading ppscore-1.3.0.tar.gz (17 kB)\n",
            "  Preparing metadata (setup.py) ... \u001b[?25l\u001b[?25hdone\n",
            "Requirement already satisfied: pandas<2.0.0,>=1.0.0 in /usr/local/lib/python3.10/dist-packages (from ppscore) (1.5.3)\n",
            "Requirement already satisfied: scikit-learn<2.0.0,>=0.20.2 in /usr/local/lib/python3.10/dist-packages (from ppscore) (1.2.2)\n",
            "Requirement already satisfied: python-dateutil>=2.8.1 in /usr/local/lib/python3.10/dist-packages (from pandas<2.0.0,>=1.0.0->ppscore) (2.8.2)\n",
            "Requirement already satisfied: pytz>=2020.1 in /usr/local/lib/python3.10/dist-packages (from pandas<2.0.0,>=1.0.0->ppscore) (2023.3.post1)\n",
            "Requirement already satisfied: numpy>=1.21.0 in /usr/local/lib/python3.10/dist-packages (from pandas<2.0.0,>=1.0.0->ppscore) (1.23.5)\n",
            "Requirement already satisfied: scipy>=1.3.2 in /usr/local/lib/python3.10/dist-packages (from scikit-learn<2.0.0,>=0.20.2->ppscore) (1.11.2)\n",
            "Requirement already satisfied: joblib>=1.1.1 in /usr/local/lib/python3.10/dist-packages (from scikit-learn<2.0.0,>=0.20.2->ppscore) (1.3.2)\n",
            "Requirement already satisfied: threadpoolctl>=2.0.0 in /usr/local/lib/python3.10/dist-packages (from scikit-learn<2.0.0,>=0.20.2->ppscore) (3.2.0)\n",
            "Requirement already satisfied: six>=1.5 in /usr/local/lib/python3.10/dist-packages (from python-dateutil>=2.8.1->pandas<2.0.0,>=1.0.0->ppscore) (1.16.0)\n",
            "Building wheels for collected packages: ppscore\n",
            "  Building wheel for ppscore (setup.py) ... \u001b[?25l\u001b[?25hdone\n",
            "  Created wheel for ppscore: filename=ppscore-1.3.0-py2.py3-none-any.whl size=13165 sha256=e4de30d884a2e206088d599819472e23435c873e8d03bfbe95d0c9eed62dbfb9\n",
            "  Stored in directory: /root/.cache/pip/wheels/42/87/10/00056aa2d2624f1b9374db6a0d5245da9a3d87bdc9247c1a56\n",
            "Successfully built ppscore\n",
            "Installing collected packages: ppscore\n",
            "Successfully installed ppscore-1.3.0\n"
          ]
        }
      ],
      "source": [
        "pip install ppscore"
      ]
    },
    {
      "cell_type": "code",
      "execution_count": null,
      "metadata": {
        "colab": {
          "base_uri": "https://localhost:8080/"
        },
        "id": "6lkhu6gwqPRl",
        "outputId": "9f70ce70-1e6e-4d08-fd99-27a951fa8bd4"
      },
      "outputs": [
        {
          "output_type": "stream",
          "name": "stdout",
          "text": [
            "Collecting pandas_profiling\n",
            "  Downloading pandas_profiling-3.6.6-py2.py3-none-any.whl (324 kB)\n",
            "\u001b[?25l     \u001b[90m━━━━━━━━━━━━━━━━━━━━━━━━━━━━━━━━━━━━━━━━\u001b[0m \u001b[32m0.0/324.4 kB\u001b[0m \u001b[31m?\u001b[0m eta \u001b[36m-:--:--\u001b[0m\r\u001b[2K     \u001b[91m━━━━━━━━━━━\u001b[0m\u001b[90m╺\u001b[0m\u001b[90m━━━━━━━━━━━━━━━━━━━━━━━━━━━━\u001b[0m \u001b[32m92.2/324.4 kB\u001b[0m \u001b[31m2.5 MB/s\u001b[0m eta \u001b[36m0:00:01\u001b[0m\r\u001b[2K     \u001b[90m━━━━━━━━━━━━━━━━━━━━━━━━━━━━━━━━━━━━━━━\u001b[0m \u001b[32m324.4/324.4 kB\u001b[0m \u001b[31m5.1 MB/s\u001b[0m eta \u001b[36m0:00:00\u001b[0m\n",
            "\u001b[?25hCollecting ydata-profiling (from pandas_profiling)\n",
            "  Downloading ydata_profiling-4.5.1-py2.py3-none-any.whl (357 kB)\n",
            "\u001b[2K     \u001b[90m━━━━━━━━━━━━━━━━━━━━━━━━━━━━━━━━━━━━━━\u001b[0m \u001b[32m357.3/357.3 kB\u001b[0m \u001b[31m10.3 MB/s\u001b[0m eta \u001b[36m0:00:00\u001b[0m\n",
            "\u001b[?25hRequirement already satisfied: scipy<1.12,>=1.4.1 in /usr/local/lib/python3.10/dist-packages (from ydata-profiling->pandas_profiling) (1.11.2)\n",
            "Requirement already satisfied: pandas!=1.4.0,<2.1,>1.1 in /usr/local/lib/python3.10/dist-packages (from ydata-profiling->pandas_profiling) (1.5.3)\n",
            "Requirement already satisfied: matplotlib<4,>=3.2 in /usr/local/lib/python3.10/dist-packages (from ydata-profiling->pandas_profiling) (3.7.1)\n",
            "Requirement already satisfied: pydantic<2,>=1.8.1 in /usr/local/lib/python3.10/dist-packages (from ydata-profiling->pandas_profiling) (1.10.12)\n",
            "Requirement already satisfied: PyYAML<6.1,>=5.0.0 in /usr/local/lib/python3.10/dist-packages (from ydata-profiling->pandas_profiling) (6.0.1)\n",
            "Requirement already satisfied: jinja2<3.2,>=2.11.1 in /usr/local/lib/python3.10/dist-packages (from ydata-profiling->pandas_profiling) (3.1.2)\n",
            "Collecting visions[type_image_path]==0.7.5 (from ydata-profiling->pandas_profiling)\n",
            "  Downloading visions-0.7.5-py3-none-any.whl (102 kB)\n",
            "\u001b[2K     \u001b[90m━━━━━━━━━━━━━━━━━━━━━━━━━━━━━━━━━━━━━━━\u001b[0m \u001b[32m102.7/102.7 kB\u001b[0m \u001b[31m9.2 MB/s\u001b[0m eta \u001b[36m0:00:00\u001b[0m\n",
            "\u001b[?25hRequirement already satisfied: numpy<1.24,>=1.16.0 in /usr/local/lib/python3.10/dist-packages (from ydata-profiling->pandas_profiling) (1.23.5)\n",
            "Collecting htmlmin==0.1.12 (from ydata-profiling->pandas_profiling)\n",
            "  Downloading htmlmin-0.1.12.tar.gz (19 kB)\n",
            "  Preparing metadata (setup.py) ... \u001b[?25l\u001b[?25hdone\n",
            "Collecting phik<0.13,>=0.11.1 (from ydata-profiling->pandas_profiling)\n",
            "  Downloading phik-0.12.3-cp310-cp310-manylinux_2_17_x86_64.manylinux2014_x86_64.whl (679 kB)\n",
            "\u001b[2K     \u001b[90m━━━━━━━━━━━━━━━━━━━━━━━━━━━━━━━━━━━━━━\u001b[0m \u001b[32m679.5/679.5 kB\u001b[0m \u001b[31m14.1 MB/s\u001b[0m eta \u001b[36m0:00:00\u001b[0m\n",
            "\u001b[?25hRequirement already satisfied: requests<3,>=2.24.0 in /usr/local/lib/python3.10/dist-packages (from ydata-profiling->pandas_profiling) (2.31.0)\n",
            "Requirement already satisfied: tqdm<5,>=4.48.2 in /usr/local/lib/python3.10/dist-packages (from ydata-profiling->pandas_profiling) (4.66.1)\n",
            "Requirement already satisfied: seaborn<0.13,>=0.10.1 in /usr/local/lib/python3.10/dist-packages (from ydata-profiling->pandas_profiling) (0.12.2)\n",
            "Collecting multimethod<2,>=1.4 (from ydata-profiling->pandas_profiling)\n",
            "  Downloading multimethod-1.9.1-py3-none-any.whl (10 kB)\n",
            "Requirement already satisfied: statsmodels<1,>=0.13.2 in /usr/local/lib/python3.10/dist-packages (from ydata-profiling->pandas_profiling) (0.14.0)\n",
            "Collecting typeguard<3,>=2.13.2 (from ydata-profiling->pandas_profiling)\n",
            "  Downloading typeguard-2.13.3-py3-none-any.whl (17 kB)\n",
            "Collecting imagehash==4.3.1 (from ydata-profiling->pandas_profiling)\n",
            "  Downloading ImageHash-4.3.1-py2.py3-none-any.whl (296 kB)\n",
            "\u001b[2K     \u001b[90m━━━━━━━━━━━━━━━━━━━━━━━━━━━━━━━━━━━━━━\u001b[0m \u001b[32m296.5/296.5 kB\u001b[0m \u001b[31m12.5 MB/s\u001b[0m eta \u001b[36m0:00:00\u001b[0m\n",
            "\u001b[?25hRequirement already satisfied: wordcloud>=1.9.1 in /usr/local/lib/python3.10/dist-packages (from ydata-profiling->pandas_profiling) (1.9.2)\n",
            "Collecting dacite>=1.8 (from ydata-profiling->pandas_profiling)\n",
            "  Downloading dacite-1.8.1-py3-none-any.whl (14 kB)\n",
            "Requirement already satisfied: PyWavelets in /usr/local/lib/python3.10/dist-packages (from imagehash==4.3.1->ydata-profiling->pandas_profiling) (1.4.1)\n",
            "Requirement already satisfied: pillow in /usr/local/lib/python3.10/dist-packages (from imagehash==4.3.1->ydata-profiling->pandas_profiling) (9.4.0)\n",
            "Requirement already satisfied: attrs>=19.3.0 in /usr/local/lib/python3.10/dist-packages (from visions[type_image_path]==0.7.5->ydata-profiling->pandas_profiling) (23.1.0)\n",
            "Requirement already satisfied: networkx>=2.4 in /usr/local/lib/python3.10/dist-packages (from visions[type_image_path]==0.7.5->ydata-profiling->pandas_profiling) (3.1)\n",
            "Collecting tangled-up-in-unicode>=0.0.4 (from visions[type_image_path]==0.7.5->ydata-profiling->pandas_profiling)\n",
            "  Downloading tangled_up_in_unicode-0.2.0-py3-none-any.whl (4.7 MB)\n",
            "\u001b[2K     \u001b[90m━━━━━━━━━━━━━━━━━━━━━━━━━━━━━━━━━━━━━━━━\u001b[0m \u001b[32m4.7/4.7 MB\u001b[0m \u001b[31m20.1 MB/s\u001b[0m eta \u001b[36m0:00:00\u001b[0m\n",
            "\u001b[?25hRequirement already satisfied: MarkupSafe>=2.0 in /usr/local/lib/python3.10/dist-packages (from jinja2<3.2,>=2.11.1->ydata-profiling->pandas_profiling) (2.1.3)\n",
            "Requirement already satisfied: contourpy>=1.0.1 in /usr/local/lib/python3.10/dist-packages (from matplotlib<4,>=3.2->ydata-profiling->pandas_profiling) (1.1.0)\n",
            "Requirement already satisfied: cycler>=0.10 in /usr/local/lib/python3.10/dist-packages (from matplotlib<4,>=3.2->ydata-profiling->pandas_profiling) (0.11.0)\n",
            "Requirement already satisfied: fonttools>=4.22.0 in /usr/local/lib/python3.10/dist-packages (from matplotlib<4,>=3.2->ydata-profiling->pandas_profiling) (4.42.1)\n",
            "Requirement already satisfied: kiwisolver>=1.0.1 in /usr/local/lib/python3.10/dist-packages (from matplotlib<4,>=3.2->ydata-profiling->pandas_profiling) (1.4.5)\n",
            "Requirement already satisfied: packaging>=20.0 in /usr/local/lib/python3.10/dist-packages (from matplotlib<4,>=3.2->ydata-profiling->pandas_profiling) (23.1)\n",
            "Requirement already satisfied: pyparsing>=2.3.1 in /usr/local/lib/python3.10/dist-packages (from matplotlib<4,>=3.2->ydata-profiling->pandas_profiling) (3.1.1)\n",
            "Requirement already satisfied: python-dateutil>=2.7 in /usr/local/lib/python3.10/dist-packages (from matplotlib<4,>=3.2->ydata-profiling->pandas_profiling) (2.8.2)\n",
            "Requirement already satisfied: pytz>=2020.1 in /usr/local/lib/python3.10/dist-packages (from pandas!=1.4.0,<2.1,>1.1->ydata-profiling->pandas_profiling) (2023.3.post1)\n",
            "Requirement already satisfied: joblib>=0.14.1 in /usr/local/lib/python3.10/dist-packages (from phik<0.13,>=0.11.1->ydata-profiling->pandas_profiling) (1.3.2)\n",
            "Requirement already satisfied: typing-extensions>=4.2.0 in /usr/local/lib/python3.10/dist-packages (from pydantic<2,>=1.8.1->ydata-profiling->pandas_profiling) (4.5.0)\n",
            "Requirement already satisfied: charset-normalizer<4,>=2 in /usr/local/lib/python3.10/dist-packages (from requests<3,>=2.24.0->ydata-profiling->pandas_profiling) (3.2.0)\n",
            "Requirement already satisfied: idna<4,>=2.5 in /usr/local/lib/python3.10/dist-packages (from requests<3,>=2.24.0->ydata-profiling->pandas_profiling) (3.4)\n",
            "Requirement already satisfied: urllib3<3,>=1.21.1 in /usr/local/lib/python3.10/dist-packages (from requests<3,>=2.24.0->ydata-profiling->pandas_profiling) (2.0.4)\n",
            "Requirement already satisfied: certifi>=2017.4.17 in /usr/local/lib/python3.10/dist-packages (from requests<3,>=2.24.0->ydata-profiling->pandas_profiling) (2023.7.22)\n",
            "Requirement already satisfied: patsy>=0.5.2 in /usr/local/lib/python3.10/dist-packages (from statsmodels<1,>=0.13.2->ydata-profiling->pandas_profiling) (0.5.3)\n",
            "Requirement already satisfied: six in /usr/local/lib/python3.10/dist-packages (from patsy>=0.5.2->statsmodels<1,>=0.13.2->ydata-profiling->pandas_profiling) (1.16.0)\n",
            "Building wheels for collected packages: htmlmin\n",
            "  Building wheel for htmlmin (setup.py) ... \u001b[?25l\u001b[?25hdone\n",
            "  Created wheel for htmlmin: filename=htmlmin-0.1.12-py3-none-any.whl size=27081 sha256=42241b987201b428fcafd3426ce14c8209efc9b78ff524b77bb1551ba3396582\n",
            "  Stored in directory: /root/.cache/pip/wheels/dd/91/29/a79cecb328d01739e64017b6fb9a1ab9d8cb1853098ec5966d\n",
            "Successfully built htmlmin\n",
            "Installing collected packages: htmlmin, typeguard, tangled-up-in-unicode, multimethod, dacite, imagehash, visions, phik, ydata-profiling, pandas_profiling\n"
          ]
        }
      ],
      "source": [
        "pip install pandas_profiling"
      ]
    },
    {
      "cell_type": "markdown",
      "metadata": {
        "id": "N9DzaN1d2W10"
      },
      "source": [
        "## Importamos librerías:"
      ]
    },
    {
      "cell_type": "code",
      "execution_count": null,
      "metadata": {
        "id": "JsNf9YBb00I1"
      },
      "outputs": [],
      "source": [
        "import os\n",
        "import warnings\n",
        "import sys\n",
        "import json\n",
        "import scipy\n",
        "import joblib\n",
        "import datetime\n",
        "import requests\n",
        "import numpy as np\n",
        "import pandas as pd\n",
        "import ppscore as pps\n",
        "import seaborn as sns\n",
        "from scipy import stats\n",
        "import pandas_profiling\n",
        "from sklearn import tree\n",
        "from sklearn import metrics\n",
        "import plotly.express as px\n",
        "import statsmodels.api as sm\n",
        "from google.colab import drive\n",
        "import matplotlib.pyplot as plt\n",
        "from sklearn.cluster import KMeans\n",
        "from sklearn.datasets import fetch_openml\n",
        "from sklearn.metrics import confusion_matrix\n",
        "from datetime import datetime, date, timedelta\n",
        "from sklearn.preprocessing import MinMaxScaler\n",
        "from sklearn.tree import DecisionTreeClassifier\n",
        "from sklearn.neighbors import LocalOutlierFactor\n",
        "from sklearn.model_selection import ShuffleSplit\n",
        "from sklearn.neural_network import MLPClassifier\n",
        "from sklearn.preprocessing import StandardScaler\n",
        "from sklearn.linear_model import LinearRegression\n",
        "from sklearn.ensemble import RandomForestClassifier\n",
        "from sklearn.model_selection import train_test_split\n",
        "from mlxtend.feature_selection import SequentialFeatureSelector as SFS"
      ]
    },
    {
      "cell_type": "markdown",
      "metadata": {
        "id": "isqe9nz42elf"
      },
      "source": [
        "##Conexión a archivo"
      ]
    },
    {
      "cell_type": "code",
      "execution_count": null,
      "metadata": {
        "id": "6Rf_H1rf008b"
      },
      "outputs": [],
      "source": [
        "drive.mount('/content/gdrive')\n",
        "%cd '/content/gdrive/MyDrive/'\n",
        "df_casen2020 = pd.read_spss('Datasets/Casen_en_Pandemia_2020_revisada202209.sav')"
      ]
    },
    {
      "cell_type": "code",
      "execution_count": null,
      "metadata": {
        "id": "YSMlWp8eqPRm"
      },
      "outputs": [],
      "source": [
        "'''df_casen2020 = pd.read_spss('/Users/francisca.villagra/Desktop/Tools/Escuela/Casen/Casen/Casen_en_Pandemia_2020_revisada202209.sav')'''"
      ]
    },
    {
      "cell_type": "markdown",
      "metadata": {
        "id": "sc92VZILqPRm"
      },
      "source": [
        "##Creación de dataset"
      ]
    },
    {
      "cell_type": "code",
      "execution_count": null,
      "metadata": {
        "id": "JQn3ja_xohT3"
      },
      "outputs": [],
      "source": [
        "df = df_casen2020[['region', 'provincia', 'sexo', 'zona', 'edad', 'y1_preg', 'e6a', 'tot_per',\n",
        "                   'p6_p_con', 'ecivil', 'nucleo', 'o4', 'o7', 'oficio1_08', 'p6', 'o29',\n",
        "                   'y2_dias', 'y2a_preg', 'y1', 'y28_2f', 'y0701', 'ymes', 'ytoth', 's28',\n",
        "                   'men18c', 'may60c', 'tipohogar', 'r3', 'r1b_comuna_esp','v1', 'v13',\n",
        "                   'v20', 'pobreza', 'educ', 'inmigrante', 'esc', 'esc2', 'p8']]\n"
      ]
    },
    {
      "cell_type": "code",
      "execution_count": null,
      "metadata": {
        "id": "TN9KS7Al5YQe"
      },
      "outputs": [],
      "source": [
        "df.describe()"
      ]
    },
    {
      "cell_type": "code",
      "execution_count": null,
      "metadata": {
        "id": "Ik71phWD5dlQ"
      },
      "outputs": [],
      "source": [
        "df.head()"
      ]
    },
    {
      "cell_type": "markdown",
      "source": [
        "#Resumen del estudio"
      ],
      "metadata": {
        "id": "9RarDI-I0s3I"
      }
    },
    {
      "cell_type": "markdown",
      "metadata": {
        "id": "849j1bl4eiJ1"
      },
      "source": [
        "Abstract:\n",
        "El dataset elegido es una encuesta realizada en Chile desde el año 1987, su nombre es la abreviación de \"Encuesta de Caracterización Socioeconómica Nacional\". Esta encuesta es desarrollada por el Ministerio del Desarrollo Social y Familia, cada 3 o 4 años (dependiendo de las circunstancias y gobiernos de turno). En esta encuesta se busca tener una imagen de cómo está el país socioeconómicamente hablando, ver la composición de hogares de la mayoría, la educación e ingresos.\n",
        "La idea principal de la encuesta es reconocer diagnósticos actualizados, saber a quiénes tiene que apoyar más, cuales sectores necesitan ayuda, cuántas personas en situación de discapacidad o dependencia existen, etc.\n",
        "Al identificar las carencias y demandas de los grupos minoritarios y mayoritarios, podemos armar distintos planes de gobierno para poder responder a esas demanda.\n",
        "La encuesta tiene cobertura nacional y podemos analizar distintas variables ya sea por región, comuna o provincia, la encuesta es totalmente anonimizada pero representan a cada uno de los lugares debido a que incluye un factor de expansión.\n",
        "Durante este proyecto, quisiera investigar cómo ha ido evolucionando el trabajo de las mujeres, si ha disminuido a través del tiempo, si ha evolucionado, si han disminuido las brechas salariales y porqué, cuáles son las oportunidades que tienen y cuánto afecta el entorno en dónde viven y otras variables que pueden influir tanto como en el sueldo o en el trabajo de una mujer.\n",
        "Bien se sabe que las mujeres tienen más barreras para trabajar que los hombres y que hay una brecha salarial que es importante incluso hoy en día con compañeros de un mismo puesto, misma experiencia y distintos sueldos. Lo que se quiere investigar y concluir es por qué y qué tan probable es que pasen dependiendo del entorno, familia, lugar, etnia, etc. En este caso analizaremos la encuesta 2020 pero puede que se incluyan encuestas de otros años también.\n"
      ]
    },
    {
      "cell_type": "markdown",
      "metadata": {
        "id": "eQKZsqMFcP8O"
      },
      "source": [
        "Definición de Objetivo: necesitamos encontrar los principales factores que afectan a la brecha salarial entre hombres y mujeres y además, observar de manera exhaustiva cuánto ha crecido y quizás encontrar el por qué."
      ]
    },
    {
      "cell_type": "markdown",
      "metadata": {
        "id": "Klb7odcKdLDY"
      },
      "source": [
        "Contexto Comercial: debido a que esta encuesta no tiene un fin comercial pero si podemos visualizar el ingreso/sueldo de cada una de las personas, podremos ver la distinción entre lo que ganan mujeres y hombre según zonas que pueden influir en esta misma brecha. Durante este trabajo construiremos visualizaciones para poder responder todas las posibles preguntas que puedan haber en relación sueldo/género."
      ]
    },
    {
      "cell_type": "markdown",
      "metadata": {
        "id": "es4z7AIkdj_8"
      },
      "source": [
        "Problema Comercial: debemos limpiar, ordenar y formatear los datos entregados para poder responder las preguntas de los clientes."
      ]
    },
    {
      "cell_type": "markdown",
      "metadata": {
        "id": "snVDck0Od0ZH"
      },
      "source": [
        "Contexto Analítico: se obtiene la encuesta Casen 2020 que contiene la encuesta socioeconómica más grande de Chile, esta contiene columnas como zona, provincia, region, ingresos, oficios, edad, nucleo familiar, tipo de trabajo, tipo de ingresos, etc.\n",
        "\n",
        "Realizaremos las siguientes tareas con los datos:\n",
        "\n",
        "\n",
        "*   Extraer los datos desde el SPSS almacenados en la página oficial de la encuesta Casen.\n",
        "*   Leer, transformar y preparar los datos para su visualización.\n",
        "*   Realizaremos un análisis y construiremos visualizaciones de datos para identificar patrones en el set de datos.\n",
        "\n"
      ]
    },
    {
      "cell_type": "code",
      "execution_count": null,
      "metadata": {
        "id": "sN5F0AfwaTlh"
      },
      "outputs": [],
      "source": [
        "plt.style.use('seaborn-v0_8-pastel')"
      ]
    },
    {
      "cell_type": "markdown",
      "metadata": {
        "id": "CDTt39rjwqcO"
      },
      "source": [
        "# Exploratory Data Analysis (EDA)"
      ]
    },
    {
      "cell_type": "markdown",
      "metadata": {
        "id": "SKxwBjS_yhbM"
      },
      "source": [
        "Columnas de interés:\n",
        "\n",
        "\n",
        "*  **Región**: zona regional donde reside la persona, suele contener una o más provincias, en Chile son 16.\n",
        "*   **Provincia:** zona provincial donde reside la persona.\n",
        "*   **Sexo**: género de la persona.\n",
        "*   **Zona**: rural o urbano.\n",
        "*   **Edad**: edad del entrevistado\n",
        "*   **y1_preg**: se pregunta si las personas que respondieron reciben algun tipo de sueldo por lo que hacen.\n",
        "*   **e6a**: en esta columna las personas responden cuál es el máximo nivel educacional.\n",
        "*   **tot_per**: total de personas que viven en la vivienda\n",
        "*   **p6_p_con**: tipo de vivienda en donde reside\n",
        "*   **ecivil**: estado civil del entrevistado.\n",
        "*   **nucleo**: personas que componen el nucleo.\n",
        "*   **o4**: ¿ha trabajado alguna vez?\n",
        "*   **o7**: razón principal para no buscar trabajo.\n",
        "*   **oficio1_08**: Oficio del entrevistado.\n",
        "*   **tot_per**: Total de personas en el hogar\n",
        "*   **p29**: Tuvo otro trabajo aparte del principal\n",
        "*   **y1_preg**: sueldo en trabajo principal.\n",
        "*   **y2_dias**: dias trabajados.\n",
        "*   **y2a_preg**: dias trabajados.\n",
        "*   **y1**: monto por trabajo principal\n",
        "*   **y28_2f**: Jubilación o Pensión de Invalidez\n",
        "*   **y0701**: monto por trabajo independiente\n",
        "*   **ymes**: pensión de alimentos\n",
        "*   **y0701**: monto por trabajo independiente\n",
        "*   **ytoth**: ingreso total del hogar\n",
        "*   **s28**: Durante los últimos 12 meses, ¿Ha estado en tratamiento médico?\n",
        "*   **men18c**: Presencia menores de 18 en el hogar\n",
        "*   **may60c**: Presencia mayores de 60 en el hogar\n",
        "*   **tipohogar**: tipo de hogar\n",
        "*   **hacinamiento**: nivel de hacinamiento\n",
        "*   **indsan**: Índice de saneamiento en la vivienda (acceso a servicios básicos)\n",
        "*   **ten_viv**: Condición de tenencia de la vivienda\n",
        "*   **ten_viv_f**: Condición de tenencia formal o informal de la vivienda\n",
        "*   **r3**: pueblos indigenas\n",
        "*   **r1b_comuna_esp**: comuna donde vivia su madre\n",
        "*   **v1**: ¿Cuál es el tipo de vivienda en el que usted reside?\n",
        "*   **v13**: Su hogar, ¿bajo qué situación ocupa la vivienda?\n",
        "*   **v20**:  ¿De dónde proviene el agua de la vivienda?\n",
        "*   **pobreza**: Situación de pobreza por ingreso\n",
        "*   **educ**: Nivel de escolaridad\n",
        "*   **inmigrante**: Persona que no nació en Chile\n"
      ]
    },
    {
      "cell_type": "code",
      "execution_count": null,
      "metadata": {
        "id": "SySfyv60HXpM"
      },
      "outputs": [],
      "source": [
        "muj = df[(df.sexo == 'Mujer') & (df.edad >= 18)]\n",
        "hom = df[(df.sexo == 'Hombre') & (df.edad >= 18)]"
      ]
    },
    {
      "cell_type": "markdown",
      "metadata": {
        "id": "h7IkP0cNqPRw"
      },
      "source": [
        "Counting missing values"
      ]
    },
    {
      "cell_type": "code",
      "execution_count": null,
      "metadata": {
        "id": "Gj9lr_LQ_SoM"
      },
      "outputs": [],
      "source": [
        "with pd.option_context('mode.use_inf_as_na', True):\n",
        "    display(df.isna().sum())\n"
      ]
    },
    {
      "cell_type": "code",
      "execution_count": null,
      "metadata": {
        "id": "EPZgW7bnHcD2"
      },
      "outputs": [],
      "source": [
        "sns.histplot(data=muj, x=\"edad\", hue=\"zona\", bins=20);\n",
        "plt.title('1.1 - Edad de los encuestadas (solo mujeres) divididos por zona');\n",
        "plt.xlabel('Edad');\n",
        "plt.ylabel('Total');"
      ]
    },
    {
      "cell_type": "code",
      "execution_count": null,
      "metadata": {
        "id": "AN357JaSHd6O"
      },
      "outputs": [],
      "source": [
        "sns.histplot(data=hom, x=\"edad\", hue=\"zona\", bins=20);\n",
        "plt.title('1.2 - Edad de los encuestados (solo hombres) divididos por zona');\n",
        "plt.xlabel('Edad');\n",
        "plt.ylabel('Total');"
      ]
    },
    {
      "cell_type": "code",
      "execution_count": null,
      "metadata": {
        "id": "tKnIuOCoHhrG"
      },
      "outputs": [],
      "source": [
        "hists = df.hist(figsize=(20,10), color = 'blue')"
      ]
    },
    {
      "cell_type": "code",
      "execution_count": null,
      "metadata": {
        "id": "Wi7BldswHkbu"
      },
      "outputs": [],
      "source": [
        "sns.histplot(data=hom, x=\"edad\", hue=\"zona\", bins=20); #dataset hombres\n",
        "sns.histplot(data=muj, x=\"edad\", hue=\"zona\", bins=20); #dataset mujeres\n",
        "plt.title('1.4 - Edad de los encuestados (mujeres & hombres) divididos por zona');\n",
        "plt.xlabel('Edad');\n",
        "plt.ylabel('Total');"
      ]
    },
    {
      "cell_type": "code",
      "execution_count": null,
      "metadata": {
        "id": "cD3zJAmwIwsN"
      },
      "outputs": [],
      "source": [
        "sns.histplot(data=df, x=\"edad\", hue=\"sexo\", bins=20);\n",
        "plt.title('1.5 - Todos los encuestados divididos por género');\n",
        "plt.xlabel('Edad');\n",
        "plt.ylabel('Cantidad de personas por edad');"
      ]
    },
    {
      "cell_type": "code",
      "source": [
        "dfno = df[(df.o4 == 'No')]"
      ],
      "metadata": {
        "id": "jUJxH3xpqMY9"
      },
      "execution_count": null,
      "outputs": []
    },
    {
      "cell_type": "code",
      "source": [
        "sns.histplot(data=dfno, x=\"o7\", hue=\"sexo\", bins=20);\n",
        "plt.title('1.1 - Encuestados y por qué no trabajan');\n",
        "plt.xlabel('Edad');\n",
        "plt.ylabel('Total');\n",
        "plt.xticks(rotation=90);"
      ],
      "metadata": {
        "id": "IAcYZ3zQqQiP"
      },
      "execution_count": null,
      "outputs": []
    },
    {
      "cell_type": "code",
      "source": [
        "sns.histplot(data=df_casen2020, x=\"o15\", hue=\"sexo\", bins=20);\n",
        "plt.title('Trabajo');\n",
        "plt.xlabel('Edad');\n",
        "plt.ylabel('Total');\n",
        "plt.xticks(rotation=90);"
      ],
      "metadata": {
        "id": "Kx5ABBtPqUeS"
      },
      "execution_count": null,
      "outputs": []
    },
    {
      "cell_type": "code",
      "execution_count": null,
      "metadata": {
        "id": "y1xYdSwRI0lV"
      },
      "outputs": [],
      "source": [
        "sns.histplot(data=df, x=\"ytoth\", hue=\"sexo\", bins=20);\n",
        "plt.title('1.6 - Cantidad total de hogar por género');\n",
        "plt.xlabel('Edad');\n",
        "plt.ylabel('Cantidad total hogar');"
      ]
    },
    {
      "cell_type": "code",
      "execution_count": null,
      "metadata": {
        "id": "w-cKqUExAOSK"
      },
      "outputs": [],
      "source": [
        "#Create different variables based on type\n",
        "pd.set_option('display.max_seq_items', None)#max_se_items is to see all the elementes within the index\n",
        "categoricas = df.select_dtypes(['object']).columns\n",
        "numericas = df.select_dtypes(['int64','float64']).columns"
      ]
    },
    {
      "cell_type": "code",
      "execution_count": null,
      "metadata": {
        "id": "b02df02a",
        "scrolled": true
      },
      "outputs": [],
      "source": [
        "#Creating boxplots to see the outliers\n",
        "for column in numericas:\n",
        "    plt.figure()\n",
        "    df.boxplot([column])"
      ]
    },
    {
      "cell_type": "code",
      "execution_count": null,
      "metadata": {
        "id": "pQM9JE6xA0zJ"
      },
      "outputs": [],
      "source": [
        "# Outliers by standard deviation (3 sigmas)\n",
        "(np.abs(stats.zscore(df[numericas]))>3).sum()"
      ]
    },
    {
      "cell_type": "code",
      "execution_count": null,
      "metadata": {
        "id": "-hub9iYoAoWr"
      },
      "outputs": [],
      "source": [
        "#Outliers by quarter (5%)\n",
        "(df[numericas]<df[numericas].quantile(0.05)).sum()"
      ]
    },
    {
      "cell_type": "code",
      "execution_count": null,
      "metadata": {
        "id": "SPQDhL2CIWq4"
      },
      "outputs": [],
      "source": [
        "#Outliers by quarter (95%)\n",
        "(df[numericas]>df[numericas].quantile(0.95)).sum()"
      ]
    },
    {
      "cell_type": "code",
      "execution_count": null,
      "metadata": {
        "id": "y9hY1P7oqAaT"
      },
      "outputs": [],
      "source": [
        "#Eliminamos valores nulos\n",
        "df.dropna(inplace = False)"
      ]
    },
    {
      "cell_type": "code",
      "execution_count": null,
      "metadata": {
        "id": "QMc89vaOIQOq"
      },
      "outputs": [],
      "source": [
        "df['gender'] = df['sexo'].apply(lambda x: 0 if x == 'Mujer' else 1)\n",
        "#transformamos la columna sexo en la columna genero con sus variables ahora numericas"
      ]
    },
    {
      "cell_type": "code",
      "execution_count": null,
      "metadata": {
        "id": "s6bZ0FyiIq9F"
      },
      "outputs": [],
      "source": [
        "df['gender'] = df['gender'].astype('int64')"
      ]
    },
    {
      "cell_type": "code",
      "execution_count": null,
      "metadata": {
        "id": "F16i_s-TIUOm"
      },
      "outputs": [],
      "source": [
        "#agrupamos las variables numericas\n",
        "numericas = ['edad', 'tot_per', 'nucleo', 'esc', 'esc2', 'p6', 'p8', 'y2_dias', 'y1', 'y0701', 'ymes',\n",
        "       'ytoth','gender']"
      ]
    },
    {
      "cell_type": "code",
      "execution_count": null,
      "metadata": {
        "id": "_sqr7PWKpyeO"
      },
      "outputs": [],
      "source": [
        "#Graphical Relationship\n",
        "sns.pairplot(df).savefig('graficas.png')"
      ]
    },
    {
      "cell_type": "code",
      "execution_count": null,
      "metadata": {
        "id": "65d29af1",
        "scrolled": true
      },
      "outputs": [],
      "source": [
        "#creación de datos de entrenamiento, esto servirá para eliminar outliers e imputaciones de variables númericas\n",
        "\n",
        "ss = ShuffleSplit(n_splits=1, random_state=0, test_size=0.3)\n",
        "for train_index, test_index in ss.split(df):\n",
        "    print(len(train_index))\n",
        "    print(len(test_index))\n",
        "df['Train'] = 0\n",
        "df.loc[df.index.isin(train_index),'Train'] = 1"
      ]
    },
    {
      "cell_type": "code",
      "execution_count": null,
      "metadata": {
        "id": "ki9XgJyAqJaL"
      },
      "outputs": [],
      "source": [
        "#Imputación de variables númericas\n",
        "for var in numericas:\n",
        "    x = df.loc[df['Train'] == 1, var].mean()\n",
        "    df[var].fillna(x, inplace = True)"
      ]
    },
    {
      "cell_type": "code",
      "execution_count": null,
      "metadata": {
        "id": "UeC2t7SHqyLd"
      },
      "outputs": [],
      "source": [
        "#Eliminar outlier by LocalOutlierFactor\n",
        "outlierDetector = LocalOutlierFactor(n_neighbors = 2, metric = \"manhattan\", contamination = 0.02, novelty = True)\n",
        "outlierDetector.fit(df.loc[df['Train'] == 1, numericas])\n",
        "ind_train = outlierDetector.predict(df[numericas])\n",
        "tabla = df.loc[ind_train == 1]"
      ]
    },
    {
      "cell_type": "code",
      "execution_count": null,
      "metadata": {
        "id": "PeuGeq5-JXrt"
      },
      "outputs": [],
      "source": [
        "# Outliers por desviaciones estándar (3 sigmas)\n",
        "(np.abs(stats.zscore(df[numericas]))>3).sum()"
      ]
    },
    {
      "cell_type": "code",
      "execution_count": null,
      "metadata": {
        "id": "qAfg9UzBJqEp"
      },
      "outputs": [],
      "source": [
        "# Imputación de valores nulos (variables numéricas)\n",
        "filtroTrain = df.loc[:,'Train'] == 1\n",
        "for var in numericas:\n",
        "    lim_sup = df.loc[filtroTrain, var].quantile(0.99)\n",
        "    lim_inf = df.loc[filtroTrain, var].quantile(0.01)\n",
        "    df[var].clip(lim_inf, lim_sup, inplace=True)"
      ]
    },
    {
      "cell_type": "code",
      "execution_count": null,
      "metadata": {
        "id": "cfPU6y2jJuUQ"
      },
      "outputs": [],
      "source": [
        "# Imputación de valores nulos (variables cualitativas)\n",
        "df2 = []\n",
        "categoricas = ['sexo','region','zona', 'ecivil', 'educ']\n",
        "df2 = pd.get_dummies(df2, columns = categoricas, drop_first=True)"
      ]
    },
    {
      "cell_type": "code",
      "execution_count": null,
      "metadata": {
        "id": "VHaOWrZRZBir"
      },
      "outputs": [],
      "source": [
        "#Spearman correlation\n",
        "df.corr(method = 'spearman')\n",
        "# interesantemente podemos ver que ytoth y y0701(por trabajo independiente) tienen correlación, quizas mas debil pero de algunas que se pueden destacar\n",
        "# y1 e ytoth también son correlacionados solo que uno pregunta el total del hogar y el otro el sueldo recibido anteriormente, puede que no cambie mucho si es el unico ingreso del hogar\n",
        "#tot_per (total de personas y ytoth, tienen relacion, entre más gente hay en el hogar más dinero ingresa al hogar)\n"
      ]
    },
    {
      "cell_type": "code",
      "execution_count": null,
      "metadata": {
        "id": "916oD6EDJ1_O"
      },
      "outputs": [],
      "source": [
        "# Predictive Power Score\n",
        "warnings.filterwarnings(\"ignore\")\n",
        "pd.options.display.max_rows = 500\n",
        "ppscoreT = pps.matrix(df)\n",
        "ppscoreT.loc[ppscoreT['y']=='ytoth']"
      ]
    },
    {
      "cell_type": "code",
      "execution_count": null,
      "metadata": {
        "id": "AvuDaCPgKL4_"
      },
      "outputs": [],
      "source": [
        "#Exploración gráfica de las correlaciones hechas por ppscore\n",
        "fig, ax = plt.subplots(figsize=(40,40))         # Sample figsize in inches\n",
        "matrix_df = ppscoreT[['x', 'y', 'ppscore']].pivot(columns='x', index='y', values='ppscore')\n",
        "sns.heatmap(matrix_df, vmin=0, vmax=1, cmap=\"Blues\", annot=True, ax = ax)"
      ]
    },
    {
      "cell_type": "code",
      "execution_count": null,
      "metadata": {
        "id": "3w2KoVpBKM2k"
      },
      "outputs": [],
      "source": [
        "# Escalamos todas las columnas\n",
        "scaler = MinMaxScaler()\n",
        "scaler.fit(df.loc[df['Train'] == 1, numericas])\n",
        "df[numericas] = scaler.transform(df[numericas])\n",
        "df"
      ]
    },
    {
      "cell_type": "code",
      "execution_count": null,
      "metadata": {
        "id": "Yg65UUWjxxdM"
      },
      "outputs": [],
      "source": [
        "pd.Series(['Mujer','Hombre']).astype('category').cat.codes"
      ]
    },
    {
      "cell_type": "code",
      "execution_count": null,
      "metadata": {
        "id": "tT7yGSGbLNh1"
      },
      "outputs": [],
      "source": [
        "#comenzamos a preparar nuestros datos imputando valores nulos\n",
        "for var in ['y1', 'ytoth', 'edad', 'esc', 'esc2',  'p6', 'p8', 'y2_dias', 'y1', 'y0701',\n",
        "       'ytoth']:\n",
        "    x = df.loc[df['Train'] == 1, var].mean()\n",
        "    df[var].fillna(x, inplace = True)"
      ]
    },
    {
      "cell_type": "code",
      "execution_count": null,
      "metadata": {
        "id": "qBzjHx-wjzix"
      },
      "outputs": [],
      "source": [
        "#Feature Selection - Forward selection\n",
        "def forward_selection(data, target, significance_level=0.01):\n",
        "    initial_features = data.columns.tolist()\n",
        "    best_features = []\n",
        "    while (len(initial_features)>0):\n",
        "        remaining_features = list(set(initial_features)-set(best_features))\n",
        "        new_pval = pd.Series(index=remaining_features)\n",
        "        for new_column in remaining_features:\n",
        "            model = sm.OLS(target, sm.add_constant(data[best_features+[new_column]])).fit()\n",
        "            new_pval[new_column] = model.pvalues[new_column]\n",
        "        min_p_value = new_pval.min()\n",
        "        if(min_p_value<significance_level):\n",
        "            best_features.append(new_pval.idxmin())\n",
        "        else:\n",
        "            break\n",
        "    return best_features"
      ]
    },
    {
      "cell_type": "code",
      "execution_count": null,
      "metadata": {
        "id": "phMJMlKOcqDq"
      },
      "outputs": [],
      "source": [
        "sys.modules['sklearn.externals.joblib'] = joblib\n"
      ]
    },
    {
      "cell_type": "code",
      "execution_count": null,
      "metadata": {
        "id": "0Mb4ECNqdzyA"
      },
      "outputs": [],
      "source": [
        "# Sequential Forward Selection(sfs)\n",
        "sfs = SFS(LinearRegression(),\n",
        "          k_features=6,\n",
        "          forward=True,\n",
        "          floating=False,\n",
        "          scoring = 'r2',\n",
        "          cv = 0)"
      ]
    },
    {
      "cell_type": "code",
      "execution_count": null,
      "metadata": {
        "id": "7LlVOfN9N4Jm"
      },
      "outputs": [],
      "source": [
        "predictoras = df[['y1', 'ytoth', 'edad', 'esc', 'p6', 'p8', 'y2_dias', 'y0701']]\n",
        "X = predictoras\n",
        "X"
      ]
    },
    {
      "cell_type": "code",
      "execution_count": null,
      "metadata": {
        "id": "1U55rqvigBE-"
      },
      "outputs": [],
      "source": [
        "y = df['ytoth']\n",
        "y"
      ]
    },
    {
      "cell_type": "code",
      "execution_count": null,
      "metadata": {
        "id": "m3dvx2Tpd5si"
      },
      "outputs": [],
      "source": [
        "sfs.fit(X, y)\n",
        "sfs.k_feature_names_     #Lista final de features"
      ]
    },
    {
      "cell_type": "code",
      "execution_count": null,
      "metadata": {
        "id": "k8goeyQ_lf8n"
      },
      "outputs": [],
      "source": [
        "forward_selection(X,y)"
      ]
    },
    {
      "cell_type": "code",
      "execution_count": null,
      "metadata": {
        "id": "CbWoA1n7id7J"
      },
      "outputs": [],
      "source": [
        "#Feature Selection - backward_elimination\n",
        "def backward_elimination(data, target,significance_level = 0.05):\n",
        "    features = data.columns.tolist()\n",
        "    while(len(features)>0):\n",
        "        features_with_constant = sm.add_constant(data[features])\n",
        "        p_values = sm.OLS(target, features_with_constant).fit().pvalues[1:]\n",
        "        max_p_value = p_values.max()\n",
        "        if(max_p_value >= significance_level):\n",
        "            excluded_feature = p_values.idxmax()\n",
        "            features.remove(excluded_feature)\n",
        "        else:\n",
        "            break\n",
        "    return features"
      ]
    },
    {
      "cell_type": "code",
      "execution_count": null,
      "metadata": {
        "id": "1aiPZI2klrsm"
      },
      "outputs": [],
      "source": [
        "backward_elimination(X,y)"
      ]
    },
    {
      "cell_type": "code",
      "execution_count": null,
      "metadata": {
        "id": "w3N1QDu_l1hk"
      },
      "outputs": [],
      "source": [
        "y"
      ]
    },
    {
      "cell_type": "code",
      "execution_count": null,
      "metadata": {
        "id": "KdzmS_Zrlwut"
      },
      "outputs": [],
      "source": [
        "# definimos matriz de diseño X y vector respuesta y\n",
        "X = pd.DataFrame(df['y0701'])\n",
        "y = abs(pd.Series(df['gender'])-1)\n",
        "# Separamos en entrenamiento/test en razon 80/20 %\n",
        "X_train, X_test, y_train, y_test = train_test_split(X,y,test_size=0.2, random_state=1)\n",
        "# Creamos un modelo Random Forest con parametros por defect\n",
        "modelo = RandomForestClassifier(random_state=1)\n",
        "modelo.fit(X_train, y_train)\n",
        "# Obtenemos las predicciones del modelo con X_test\n",
        "preds = modelo.predict(X_test)"
      ]
    },
    {
      "cell_type": "code",
      "execution_count": null,
      "metadata": {
        "id": "uqSEewKmmGCO"
      },
      "outputs": [],
      "source": [
        "#matriz de confusion\n",
        "confusion = metrics.confusion_matrix(y_test, preds)\n",
        "confusion.ravel()"
      ]
    },
    {
      "cell_type": "code",
      "execution_count": null,
      "metadata": {
        "id": "XPDQpAjNnGHi"
      },
      "outputs": [],
      "source": [
        "#nivel de precisión\n",
        "accuracy = metrics.accuracy_score(y_test, preds)\n",
        "accuracy"
      ]
    },
    {
      "cell_type": "code",
      "execution_count": null,
      "metadata": {
        "id": "GTzXIcEMnHIN"
      },
      "outputs": [],
      "source": [
        "#metricas de precision\n",
        "precision_positiva = metrics.precision_score(y_test, preds, pos_label=1)\n",
        "precision_negativa = metrics.precision_score(y_test, preds, pos_label=0)\n",
        "precision_positiva, precision_negativa"
      ]
    },
    {
      "cell_type": "code",
      "execution_count": null,
      "metadata": {
        "id": "JfC4j_YPnLUJ"
      },
      "outputs": [],
      "source": [
        "#metricas de sensibilidad\n",
        "recall_sensibilidad = metrics.recall_score(y_test, preds, pos_label=1)\n",
        "recall_especificidad= metrics.recall_score(y_test, preds, pos_label=0)\n",
        "recall_sensibilidad, recall_especificidad"
      ]
    },
    {
      "cell_type": "code",
      "execution_count": null,
      "metadata": {
        "id": "nXlVNch4nNTZ"
      },
      "outputs": [],
      "source": [
        "f1_positivo = metrics.f1_score(y_test, preds, pos_label=1)\n",
        "f1_negativo = metrics.f1_score(y_test, preds, pos_label=0)\n",
        "f1_positivo, f1_negativo"
      ]
    },
    {
      "cell_type": "code",
      "execution_count": null,
      "metadata": {
        "id": "K9DE3yIPnPf2"
      },
      "outputs": [],
      "source": [
        "# Todas las metricas en uno\n",
        "print(metrics.classification_report(y_test, preds))"
      ]
    },
    {
      "cell_type": "markdown",
      "source": [
        "# Posibles Algoritmos"
      ],
      "metadata": {
        "id": "ZCcLOBeb1MVW"
      }
    },
    {
      "cell_type": "markdown",
      "metadata": {
        "id": "2Cz9ShrxbYmM"
      },
      "source": [
        "Algoritmo de Árbol de decisión"
      ]
    },
    {
      "cell_type": "code",
      "execution_count": null,
      "metadata": {
        "id": "lLh0JxOZE0MY"
      },
      "outputs": [],
      "source": [
        "arbolCasen = DecisionTreeClassifier()"
      ]
    },
    {
      "cell_type": "code",
      "execution_count": null,
      "metadata": {
        "id": "RxmZtb7_E0rW"
      },
      "outputs": [],
      "source": [
        "#monto sueldo mes pasado, total hogar, edad, nivel educacional mayor o igual a 15 años,  personas por vivienda, presupuesto de alimentacion\n",
        "#numero de días trabajados pactados, total de trabajos independientes\n",
        "predictoras = df[['y1', 'ytoth', 'edad', 'esc', 'y2_dias', 'y0701']]\n",
        "objetivas = df['gender']\n",
        "\n",
        "arbolCasen.fit(predictoras, objetivas)"
      ]
    },
    {
      "cell_type": "code",
      "execution_count": null,
      "metadata": {
        "id": "oLNV_ipCE19g"
      },
      "outputs": [],
      "source": [
        "#1 hombre, 0 mujer\n",
        "arbolCasen.predict([[450000, 500000, 30, 15,  30, 100000]])\n"
      ]
    },
    {
      "cell_type": "code",
      "execution_count": null,
      "metadata": {
        "id": "EvwKlP78E4jr"
      },
      "outputs": [],
      "source": [
        "arbolCasen.predict_proba([[450000, 500000, 30, 15,  30, 100000]])"
      ]
    },
    {
      "cell_type": "code",
      "execution_count": null,
      "metadata": {
        "id": "as9dGxB_E59y"
      },
      "outputs": [],
      "source": [
        "#esta figura mostraría como quedaría el tree classifier, no funciona\n",
        "#fig = plt.figure(figsize=(9,9))\n",
        "#_ = tree.plot_tree(arbolCasen, filled=True)\n"
      ]
    },
    {
      "cell_type": "code",
      "execution_count": null,
      "metadata": {
        "id": "OrJdmsEoE9Wf"
      },
      "outputs": [],
      "source": [
        "#no funciona\n",
        "#fig = plt.figure(figsize=(10,10))\n",
        "#_ = tree.plot_tree(arbolCasen)"
      ]
    },
    {
      "cell_type": "markdown",
      "metadata": {
        "id": "mpfF-xy0bhxw"
      },
      "source": [
        "Algoritmo -  Redes neuronales"
      ]
    },
    {
      "cell_type": "code",
      "execution_count": null,
      "metadata": {
        "id": "hGQlMItQE9qT"
      },
      "outputs": [],
      "source": [
        "neuralCasen = MLPClassifier()\n",
        "predictoras = df[['y1', 'ytoth', 'edad']]\n",
        "objetivas = df['sexo']\n",
        "\n",
        "neuralCasen.fit(predictoras, objetivas)"
      ]
    },
    {
      "cell_type": "code",
      "execution_count": null,
      "metadata": {
        "id": "BltUOyMkE_TY"
      },
      "outputs": [],
      "source": [
        "neuralCasen.predict_proba([[12000, 3300, 40], [123023, 2131, 50]])"
      ]
    },
    {
      "cell_type": "code",
      "execution_count": null,
      "metadata": {
        "id": "Qa9ebbpfFCkr"
      },
      "outputs": [],
      "source": [
        "neuralCasen.predict([[12000, 3300, 40], [123023, 2131, 50]])"
      ]
    },
    {
      "cell_type": "code",
      "execution_count": null,
      "metadata": {
        "id": "13hL1MUjR_lL"
      },
      "outputs": [],
      "source": [
        "predictoras_kmeans = df[['y1', 'ytoth', 'edad', 'esc', 'p6', 'p8', 'y2_dias', 'y0701']]\n",
        "X = predictoras_kmeans\n",
        "X"
      ]
    },
    {
      "cell_type": "markdown",
      "metadata": {
        "id": "OwMOG6libpGD"
      },
      "source": [
        "Algoritmo - K Means"
      ]
    },
    {
      "cell_type": "code",
      "execution_count": null,
      "metadata": {
        "id": "nhdWBt4DFEzZ"
      },
      "outputs": [],
      "source": [
        "kmeans = KMeans(n_clusters=4, random_state=1)\n",
        "kmeans.fit(X)"
      ]
    },
    {
      "cell_type": "code",
      "execution_count": null,
      "metadata": {
        "id": "NuVilJ8BFHlz"
      },
      "outputs": [],
      "source": [
        "X['Cluster'] = kmeans.labels_\n",
        "X"
      ]
    },
    {
      "cell_type": "code",
      "execution_count": null,
      "metadata": {
        "id": "kuLLvjKVFIag"
      },
      "outputs": [],
      "source": [
        "sns.scatterplot(data = X, x='edad', y='y1', hue='Cluster' );"
      ]
    },
    {
      "cell_type": "code",
      "execution_count": null,
      "metadata": {
        "id": "z4jg-w1wFL8-"
      },
      "outputs": [],
      "source": [
        "escalador = StandardScaler()\n",
        "x_exc = escalador.fit_transform(X)\n",
        "#para estandarizar los datos"
      ]
    },
    {
      "cell_type": "code",
      "execution_count": null,
      "metadata": {
        "id": "xeGiGpnYVO6b"
      },
      "outputs": [],
      "source": [
        "X"
      ]
    },
    {
      "cell_type": "markdown",
      "metadata": {
        "id": "TBdnYD8Pc41d"
      },
      "source": [
        "#Conclusión:\n",
        "\n",
        "Con respecto a los pequeños modelos que hemos podido ver, podemos decir que en este caso podemos encontrar varios problemas de underfitting, debido a que las métricas que tenemos no bastan para poder determinar las brechas entre hombres y mujeres pero si ya van identificando (poorly) ciertos patrones, algunas de las mejoras que podemos hacer son agregar metricas de mejor calidad quizás cambiar algunas categoricas por numericas, para que así pueda variar mejor las implementacion y reconocimiento de patrones.\n",
        "\n",
        "Dentro de los pasos a seguir, están también: romper las relaciones de dependencia que son fuertes o muy fuertes para que no haya redundancia de los datos y que nuestro modelo no se sesgue con cierta información.\n",
        "\n",
        "Seguiremos buscando las mejores variables para poder encontrar esta brecha salarial. Hasta el momento el patrón reconocido por los modelos es algo confuso, debido a que como mostramos en la grafica, la mayoría de las encuestadas son mujeres, las mujeres viven más que los hombres y están se encuentran activas mas tiempo pero por algun motivo ningun modelo predijo a una mujer, sino que solo hombres, es curioso y definitivamente, emocionante de seguir investigando."
      ]
    },
    {
      "cell_type": "markdown",
      "source": [
        "#Desafío APIs"
      ],
      "metadata": {
        "id": "SVxM8DwuzK4N"
      }
    },
    {
      "cell_type": "code",
      "execution_count": null,
      "metadata": {
        "id": "xo4LrlEVd3RN"
      },
      "outputs": [],
      "source": [
        "# En este caso hacemos la solicitud para el caso de consulta de un indicador en un año determinado\n",
        "indicador = [\"dolar\", \"uf\", \"libra_cobre\", \"euro\", \"ivp\", \"ipc\", \"utm\", \"imacec\", \"tpm\"]\n",
        "year = 2023\n",
        "indicadores = []\n",
        "df1 = pd.DataFrame(columns=[\"fecha\", \"valor\", \"Indicador\"])\n",
        "for ind in indicador:\n",
        "  url = f'https://mindicador.cl/api/{ind}/{year}'\n",
        "  response = requests.get(url)\n",
        "  data = json.loads(response.text.encode(\"utf-8\"))\n",
        "  nomInd = data[\"codigo\"]\n",
        "  series = data[\"serie\"]\n",
        "  df2 = pd.DataFrame(series, columns=[\"fecha\", \"valor\", \"Indicador\"])\n",
        "  df2.fillna(nomInd, inplace=True)\n",
        "  df1 = df1.append(df2);\n"
      ]
    },
    {
      "cell_type": "markdown",
      "source": [
        "#Data Wrangling"
      ],
      "metadata": {
        "id": "wgGp7RmjzW8x"
      }
    },
    {
      "cell_type": "code",
      "execution_count": null,
      "metadata": {
        "id": "1bEbNcqcqPR5"
      },
      "outputs": [],
      "source": [
        "df_ind =  pd.pivot_table(df1, values='valor', index=['fecha'],\n",
        "                       columns=['Indicador'], aggfunc=\"sum\")\n",
        "df_ind = df_ind.reset_index()\n",
        "df_ind['fecha'] = pd.to_datetime(df_ind['fecha']).dt.date\n",
        "df_ind"
      ]
    },
    {
      "cell_type": "code",
      "execution_count": null,
      "metadata": {
        "id": "LW9k5PDf4Tkm"
      },
      "outputs": [],
      "source": [
        " # Sacamos la media anual de cada indicador y le hacemos un transpose\n",
        "df3 = df1.groupby([\"Indicador\"], as_index=True).mean()\n",
        "df4 = df3.T\n",
        "df4"
      ]
    },
    {
      "cell_type": "code",
      "execution_count": null,
      "metadata": {
        "id": "IEiTZQ5v4VgD"
      },
      "outputs": [],
      "source": [
        "# Creamos el df de las ultimas fechas de cada indicador\n",
        "url = \"https://mindicador.cl/api\"\n",
        "response = requests.get(url)\n",
        "data = response.json()\n",
        "dolar = data[\"dolar\"][\"valor\"]\n",
        "uf = data[\"uf\"][\"valor\"]\n",
        "libra_cobre = data[\"libra_cobre\"][\"valor\"] * dolar\n",
        "euro = data[\"euro\"][\"valor\"]\n",
        "ivp =data[\"ivp\"][\"valor\"]\n",
        "ipc =data[\"ipc\"][\"valor\"]\n",
        "utm =data[\"utm\"][\"valor\"]\n",
        "imacec =data[\"imacec\"][\"valor\"]\n",
        "tpm =data[\"tpm\"][\"valor\"]\n",
        "df = pd.DataFrame({ 'dolar': [dolar], 'libra_cobre': [libra_cobre], 'uf': [uf], 'euro': [euro], \"ivp\":[ivp],\n",
        "                       \"ipc\":[ipc],\"utm\":[utm],\"imacec\":[imacec],\"tpm\":[tpm]})\n",
        "\n",
        "df[['dolar','uf', \"libra_cobre\", 'euro', 'ivp', 'ipc', 'utm', 'imacec', 'tpm']] = df[['dolar','uf', \"libra_cobre\", 'euro', 'ivp', 'ipc', 'utm', 'imacec', 'tpm']].astype(float)\n",
        "\n",
        "df\n"
      ]
    },
    {
      "cell_type": "code",
      "execution_count": null,
      "metadata": {
        "id": "nvfhNqYe4V6z"
      },
      "outputs": [],
      "source": [
        "# Mezclamos ambos dataframe para poder hacer la comparación entre los valores diarios actuales y el promedio de cada uno en lo que va del año\n",
        "result = pd.concat([df, df4], axis=0)\n",
        "result = result.reset_index(drop=True)\n",
        "columns = ['Valor_Actual', 'Valor_Promedio']\n",
        "result['Tipo_Valor'] = columns\n",
        "result = result.set_index('Tipo_Valor')"
      ]
    },
    {
      "cell_type": "code",
      "execution_count": null,
      "metadata": {
        "id": "O7RmoRpg4XjH"
      },
      "outputs": [],
      "source": [
        "indicadores = []\n",
        "dfInd = pd.DataFrame()\n",
        "# En este caso hacemos la solicitud para el caso de consulta de un indicador en un año determinado\n",
        "for ind in indicador:\n",
        "  url = f'https://mindicador.cl/api/{ind}/{year}'\n",
        "  response = requests.get(url)\n",
        "  data = json.loads(response.text.encode(\"utf-8\"))\n",
        "  nomInd = data[\"codigo\"]\n",
        "  series = data[\"serie\"]\n",
        "  df2 = pd.DataFrame(series, columns=[\"fecha\", \"valor\", \"Indicador\"])\n",
        "  df2['fecha'] = pd.to_datetime(df2['fecha']).dt.date\n",
        "  df2.fillna(nomInd, inplace=True)\n",
        "  dfInd = dfInd.append(df2)"
      ]
    },
    {
      "cell_type": "code",
      "execution_count": null,
      "metadata": {
        "id": "B9nTbOKA4Yyq"
      },
      "outputs": [],
      "source": [
        "#Creamos datasets especializados\n",
        "dolar = dfInd[(dfInd.Indicador == 'dolar')]\n",
        "cobre = dfInd[(dfInd.Indicador == 'libra_cobre')]\n",
        "tpm = dfInd[(dfInd.Indicador == 'tpm')]\n",
        "uf = dfInd[(dfInd.Indicador == 'uf')]\n",
        "ipc = dfInd[(dfInd.Indicador == 'ipc')]\n",
        "imacec = dfInd[(dfInd.Indicador == 'imacec')]"
      ]
    },
    {
      "cell_type": "markdown",
      "source": [
        "#Desafío Storytelling I"
      ],
      "metadata": {
        "id": "-DMfgBDrzau0"
      }
    },
    {
      "cell_type": "code",
      "execution_count": null,
      "metadata": {
        "id": "Q-IAk6i94aI8"
      },
      "outputs": [],
      "source": [
        "fig, ax = plt.subplots()\n",
        "ax.scatter(dolar[\"fecha\"], dolar[\"valor\"], alpha = 1, label = 'Valor vs Tiempo')\n",
        "ax.set_title('Valor Dólar a través del tiempo')\n",
        "ax.set_xlabel('Fecha')\n",
        "ax.set_ylabel('Valor')\n",
        "plt.xticks(rotation=90)\n",
        "ax.legend();"
      ]
    },
    {
      "cell_type": "code",
      "execution_count": null,
      "metadata": {
        "id": "PpIZkLa-4fsY"
      },
      "outputs": [],
      "source": [
        "fig, ax = plt.subplots()\n",
        "ax.scatter(cobre[\"fecha\"], cobre[\"valor\"], alpha = 1, label = 'Valor vs Tiempo')\n",
        "ax.set_title('Valor cobre a través del tiempo')\n",
        "ax.set_xlabel('Fecha')\n",
        "ax.set_ylabel('Valor')\n",
        "plt.xticks(rotation=90)\n",
        "ax.legend();"
      ]
    },
    {
      "cell_type": "code",
      "execution_count": null,
      "metadata": {
        "id": "lbe4yiLW4hKC"
      },
      "outputs": [],
      "source": [
        "sns.displot(data=dolar, x=\"valor\", hue=\"Indicador\", alpha = 0.4);"
      ]
    },
    {
      "cell_type": "code",
      "execution_count": null,
      "metadata": {
        "id": "G3oU3FWH4ixY"
      },
      "outputs": [],
      "source": [
        "sns.displot(data=cobre, x=\"valor\", hue=\"Indicador\", alpha = 0.4);"
      ]
    },
    {
      "cell_type": "code",
      "execution_count": null,
      "metadata": {
        "id": "2FuoJFep4scQ"
      },
      "outputs": [],
      "source": [
        "sns.pairplot(data = dolar, hue = 'Indicador')\n",
        "sns.pairplot(data = cobre, hue = 'Indicador')\n",
        "sns.pairplot(data = uf, hue = 'Indicador')\n",
        "sns.pairplot(data = tpm, hue = 'Indicador')\n",
        "sns.pairplot(data = imacec, hue = 'Indicador')\n",
        "sns.pairplot(data = ipc, hue = 'Indicador')"
      ]
    },
    {
      "cell_type": "code",
      "execution_count": null,
      "metadata": {
        "id": "kVnhWrAT4uws"
      },
      "outputs": [],
      "source": [
        "dolar = dolar.sort_values(['valor'], ascending = False).reset_index(drop=True)\n",
        "dolar.drop(columns = ['Indicador']).head(10).style.background_gradient(cmap='Reds', subset = ['valor'])"
      ]
    },
    {
      "cell_type": "code",
      "execution_count": null,
      "metadata": {
        "id": "GQjH1i-d4xJo"
      },
      "outputs": [],
      "source": [
        "cobre = cobre.sort_values(['valor'], ascending = False).reset_index(drop=True)\n",
        "cobre.drop(columns = ['Indicador']).head(10).style.background_gradient(cmap='Reds', subset = ['valor'])"
      ]
    },
    {
      "cell_type": "code",
      "execution_count": null,
      "metadata": {
        "id": "1KTviuNu4yq5"
      },
      "outputs": [],
      "source": [
        "uf = uf.sort_values(['valor'], ascending = False).reset_index(drop=True)\n",
        "uf.drop(columns = ['Indicador']).head(10).style.background_gradient(cmap='Reds', subset = ['valor'])"
      ]
    },
    {
      "cell_type": "markdown",
      "metadata": {
        "id": "G5dyfWH9qPR6"
      },
      "source": [
        "#Desafío Storytelling II\n"
      ]
    },
    {
      "cell_type": "markdown",
      "metadata": {
        "id": "ZL0ZZuRGqPR6"
      },
      "source": [
        "##Análisis Univariado\n"
      ]
    },
    {
      "cell_type": "markdown",
      "source": [
        "Analizamos nuestro dataset y varibles"
      ],
      "metadata": {
        "id": "jFWQ7SfB1ov0"
      }
    },
    {
      "cell_type": "code",
      "execution_count": null,
      "metadata": {
        "id": "OYbxDpiLqPR6"
      },
      "outputs": [],
      "source": [
        "df_ind.head()"
      ]
    },
    {
      "cell_type": "markdown",
      "source": [
        "Visualizamos la distribución de alguna de sus variables"
      ],
      "metadata": {
        "id": "edRXW9vD1uXp"
      }
    },
    {
      "cell_type": "code",
      "execution_count": null,
      "metadata": {
        "id": "nz8gJQAGqPR6"
      },
      "outputs": [],
      "source": [
        "sns.distplot(df_ind['dolar'], kde=False)\n",
        "plt.show()"
      ]
    },
    {
      "cell_type": "markdown",
      "source": [
        "Podemos ver como el dolar este año ha estado la mayor parte del tiempo sobre los 800 pesos chilenos"
      ],
      "metadata": {
        "id": "nczeXmi210y0"
      }
    },
    {
      "cell_type": "code",
      "execution_count": null,
      "metadata": {
        "id": "4Vbke5bRqPR6"
      },
      "outputs": [],
      "source": [
        "sns.histplot(data=df_casen2020,x='region',hue='sexo')\n",
        "plt.title('Histograma de regiones por sexo')\n",
        "plt.xticks(rotation=90)\n",
        "plt.show()"
      ]
    },
    {
      "cell_type": "markdown",
      "source": [
        "Aquí estaremos analizando también los datasets primarios para poder ver de qué manera podemos unir estos dos datasets y crear un análisis en base al dolar, euro o libra de cobre, en comparación con los sueldos y brechas en Chile."
      ],
      "metadata": {
        "id": "MrTTSQPp1-lh"
      }
    },
    {
      "cell_type": "code",
      "execution_count": null,
      "metadata": {
        "id": "gRiXOfHzqPR6"
      },
      "outputs": [],
      "source": [
        "sns.histplot(data=df_casen2020,x='edad',hue='sexo')\n",
        "plt.title('Histograma de edad por sexo')\n",
        "plt.show()"
      ]
    },
    {
      "cell_type": "markdown",
      "source": [
        "Como dato extra podemos ver que en esta visualización se da una tendencia de que más mujeres están presentes en la encuesta y estas luego de los 23 años lideran las métricas, curioso pensar que nuestro algoritmo solo reconoce hombres."
      ],
      "metadata": {
        "id": "28Qd8CA52S9e"
      }
    },
    {
      "cell_type": "code",
      "execution_count": null,
      "metadata": {
        "id": "jyk8LHEOqPR6"
      },
      "outputs": [],
      "source": [
        "\n",
        "fig = px.histogram(df_casen2020, x=\"e6a\", nbins=10)\n",
        "fig.update_layout(\n",
        "    title=\"Nivel educacional de los entrevistados\",\n",
        "    xaxis=dict(\n",
        "        showgrid=False,\n",
        "        showline=True,\n",
        "        linecolor='rgb(102, 102, 102)',\n",
        "        tickfont_color='rgb(102, 102, 102)',\n",
        "        showticklabels=True,\n",
        "        dtick=10,\n",
        "        ticks='outside',\n",
        "        tickcolor='rgb(102, 102, 102)',\n",
        "    ),\n",
        "    margin=dict(l=140, r=40, b=50, t=80),\n",
        "    legend=dict(\n",
        "        font_size=10,\n",
        "        yanchor='middle',\n",
        "        xanchor='right',\n",
        "    ),\n",
        "    width=800,\n",
        "    height=600,\n",
        "    paper_bgcolor='white',\n",
        "    plot_bgcolor='white',\n",
        "    hovermode='closest',\n",
        ")"
      ]
    },
    {
      "cell_type": "markdown",
      "source": [
        "Podemos visualizar cómo está nuestra distribución en cuanto a nivel educacional, en este caso, los entrevistados son más de 173 mil personas y si esto, pudiera graficar la realidad de la sociedad chilena, esto diría claramente que la mayoría de los chilenos solo tiene su educación media o básica completa. Ahora, el nivel educacional también es un indicador de desigualdad, debido a que varias personas no pueden asistir a colegios ya que necesitan trabajar o quedan en regiones y la centralización en Chile no permite ampliar el acceso a la educación."
      ],
      "metadata": {
        "id": "9SBwicAo27_I"
      }
    },
    {
      "cell_type": "markdown",
      "source": [
        "Esta parte es más técnica debido a que durante este trabajo debemos crear distintos datasets para poder responder de alguna manera a las visualizaciones que intentaremos hacer, como la mayoría de las visualizaciones no permiten filtros de datos, crearemos varios datasets que contienen la misma información pero van filtrado para solo mostrar los datos que nos importan"
      ],
      "metadata": {
        "id": "6X7A9HG93n60"
      }
    },
    {
      "cell_type": "code",
      "execution_count": null,
      "metadata": {
        "id": "L7imZF23qPR7"
      },
      "outputs": [],
      "source": [
        "dolar['fecha']=pd.to_datetime(dolar['fecha'])\n",
        "dolars =dolar.groupby(dolar['fecha'].dt.to_period('D')).sum()"
      ]
    },
    {
      "cell_type": "code",
      "execution_count": null,
      "metadata": {
        "id": "8nOP94oZqPR7"
      },
      "outputs": [],
      "source": [
        "df_sf = df_ind[['dolar', 'euro','libra_cobre', 'uf']]\n",
        "df_sf = df_sf.dropna()\n"
      ]
    },
    {
      "cell_type": "markdown",
      "metadata": {
        "id": "WO14oEmIqPR7"
      },
      "source": [
        "###Medidas de Tendencia Central"
      ]
    },
    {
      "cell_type": "code",
      "execution_count": null,
      "metadata": {
        "id": "eXtfOv1xqPR7"
      },
      "outputs": [],
      "source": [
        "scipy.stats.describe(df_sf)"
      ]
    },
    {
      "cell_type": "code",
      "execution_count": null,
      "metadata": {
        "id": "N92MsRDyqPR7"
      },
      "outputs": [],
      "source": [
        "scipy.stats.describe(df_sf) # Calcular el coeficiente de variacion"
      ]
    },
    {
      "cell_type": "code",
      "execution_count": null,
      "metadata": {
        "id": "M6lyMrpYqPR7"
      },
      "outputs": [],
      "source": [
        "scipy.stats.hmean(df_sf) # Media armonica"
      ]
    },
    {
      "cell_type": "code",
      "execution_count": null,
      "metadata": {
        "id": "PiaX_gy1qPR7"
      },
      "outputs": [],
      "source": [
        "scipy.stats.trim_mean(df_sf,0.1) # Media recortada (Proporcion removida en cada cola 10%)"
      ]
    },
    {
      "cell_type": "code",
      "execution_count": null,
      "metadata": {
        "id": "mLjVys6eqPR7"
      },
      "outputs": [],
      "source": [
        "scipy.stats.mode(df_sf) # Moda"
      ]
    },
    {
      "cell_type": "markdown",
      "metadata": {
        "id": "UfwDAT1uqPR7"
      },
      "source": [
        "###Medidas de Dispersión"
      ]
    },
    {
      "cell_type": "code",
      "execution_count": null,
      "metadata": {
        "id": "9yqVlEK6qPR7"
      },
      "outputs": [],
      "source": [
        "scipy.stats.describe(df_sf) # Calcular el coeficiente de variacion"
      ]
    },
    {
      "cell_type": "code",
      "execution_count": null,
      "metadata": {
        "id": "_5fsuAOEqPR7"
      },
      "outputs": [],
      "source": [
        "scipy.stats.variation(df_sf) # Calcular el coeficiente de variacion"
      ]
    },
    {
      "cell_type": "code",
      "execution_count": null,
      "metadata": {
        "id": "ImhgVvAUqPR7"
      },
      "outputs": [],
      "source": [
        "scipy.stats.iqr(df_sf) # Calcular el IQR"
      ]
    },
    {
      "cell_type": "code",
      "execution_count": null,
      "metadata": {
        "id": "oY3_xsdcqPR7"
      },
      "outputs": [],
      "source": [
        "scipy.stats.sem(df_sf) # Calcular el Error estandar"
      ]
    },
    {
      "cell_type": "markdown",
      "metadata": {
        "id": "Y35AtmyTqPR7"
      },
      "source": [
        "###Medidas de asimetría y Kurtosis"
      ]
    },
    {
      "cell_type": "code",
      "execution_count": null,
      "metadata": {
        "id": "a4lIf31GqPR7"
      },
      "outputs": [],
      "source": [
        "scipy.stats.skew(df_sf) # Calcular el CA"
      ]
    },
    {
      "cell_type": "code",
      "execution_count": null,
      "metadata": {
        "id": "OxisY_s0qPR7"
      },
      "outputs": [],
      "source": [
        "scipy.stats.kurtosis(df_sf) # Calcular el CA_p"
      ]
    },
    {
      "cell_type": "markdown",
      "metadata": {
        "id": "3MPGHlIvqPR7"
      },
      "source": [
        "###Datos Atipícos"
      ]
    },
    {
      "cell_type": "code",
      "execution_count": null,
      "metadata": {
        "id": "R8asU3LZqPR7"
      },
      "outputs": [],
      "source": [
        "sns.set_theme(style=\"whitegrid\")\n",
        "ax = sns.boxplot(x=df_ind['dolar'])\n",
        "plt.title('Boxplot valores del dolar mensuales')\n",
        "plt.xlabel('valor')"
      ]
    },
    {
      "cell_type": "markdown",
      "source": [
        "Este boxplot gráfica que el dolar ha mostrado solo 4 grandes saltos en su valor pero que aún así la mayoría de las veces oscila entre 800 y 830 pesos chilenos, ahora sería importante revisar las fechas y contextos en las cuales se situaron estos outliers, ya que podrían indicar que cada vez que pasa un evento importante (elección presidencial, plesbicito, etc) este tiene un desplome o aumento."
      ],
      "metadata": {
        "id": "wzhXaFGu4TjZ"
      }
    },
    {
      "cell_type": "code",
      "execution_count": null,
      "metadata": {
        "id": "Nuyl-R4QqPR8"
      },
      "outputs": [],
      "source": [
        "df3 = dfInd[dfInd.Indicador.isin(['uf', 'ivp', 'utm'])]"
      ]
    },
    {
      "cell_type": "code",
      "execution_count": null,
      "metadata": {
        "id": "-jUX0dPKqPR8"
      },
      "outputs": [],
      "source": [
        "df4 = df_casen2020[['edad', 'sexo']]"
      ]
    },
    {
      "cell_type": "code",
      "execution_count": null,
      "metadata": {
        "id": "XB25ACLbqPR8"
      },
      "outputs": [],
      "source": [
        "sns.set_theme(style=\"whitegrid\")\n",
        "ax = sns.boxplot(y=df4.edad, x=df4.sexo)\n",
        "plt.title('Boxplot de edades por Género')\n",
        "plt.xlabel('Género');"
      ]
    },
    {
      "cell_type": "markdown",
      "source": [
        "Como visualizamos anteriormente, tenemos mujeres con mayor edad que los hombres"
      ],
      "metadata": {
        "id": "BOJWzyGa7ah-"
      }
    },
    {
      "cell_type": "code",
      "execution_count": null,
      "metadata": {
        "id": "Jp8jc0nCqPR8"
      },
      "outputs": [],
      "source": [
        "fig = px.box(df4, x=\"sexo\", y=\"edad\")\n",
        "fig.show()"
      ]
    },
    {
      "cell_type": "markdown",
      "source": [
        "Aquí lo podemos confirmar con la media de las mujeres que sería la edad de 39 y la media de los hombres que es 34, si pudieramos aseverar que esta es una fotografía de la población chilena de hoy en día, podemos decir que las mujeres son más longevas al menos en Chile."
      ],
      "metadata": {
        "id": "WCfO8XCQ7igJ"
      }
    },
    {
      "cell_type": "markdown",
      "source": [
        "##Análisis Bivariado"
      ],
      "metadata": {
        "id": "eVgIDl_azvRL"
      }
    },
    {
      "cell_type": "code",
      "execution_count": null,
      "metadata": {
        "id": "Y9lGPusVqPR8"
      },
      "outputs": [],
      "source": [
        "monExtranjeras = dfInd[dfInd.Indicador.isin(['dolar', 'euro'])]"
      ]
    },
    {
      "cell_type": "code",
      "execution_count": null,
      "metadata": {
        "id": "rkV7SDLEqPR8"
      },
      "outputs": [],
      "source": [
        "fig = px.box(monExtranjeras, x=\"Indicador\", y=\"valor\", color=\"Indicador\")\n",
        "fig.show()"
      ]
    },
    {
      "cell_type": "markdown",
      "source": [
        "Aquí quisimos explorar los valores que nos afectan directamente todos los días y que más inciden en nuestra economía, sin querer, encontramos la relación directa del euro con el dólar, en este caso tienen una correlación muy fuerte que iremos analizando durante el estudio."
      ],
      "metadata": {
        "id": "wsZZtK3573eC"
      }
    },
    {
      "cell_type": "code",
      "execution_count": null,
      "metadata": {
        "id": "CFkf9X2aqPR8"
      },
      "outputs": [],
      "source": [
        "df_ind.count()"
      ]
    },
    {
      "cell_type": "code",
      "execution_count": null,
      "metadata": {
        "id": "7UYY9gH4qPR8"
      },
      "outputs": [],
      "source": [
        "#Tipo de dato de cada columna\n",
        "df_ind.dtypes"
      ]
    },
    {
      "cell_type": "code",
      "execution_count": null,
      "metadata": {
        "id": "DKvqeJCuqPR8"
      },
      "outputs": [],
      "source": [
        "#Tipo de estructura del dataset\n",
        "type(dfInd)"
      ]
    },
    {
      "cell_type": "code",
      "execution_count": null,
      "metadata": {
        "id": "g4yYp3yMqPR8"
      },
      "outputs": [],
      "source": [
        "#Principales medidas estadisticas\n",
        "dfInd.describe().T"
      ]
    },
    {
      "cell_type": "code",
      "execution_count": null,
      "metadata": {
        "id": "dJlUlTiDqPR8"
      },
      "outputs": [],
      "source": [
        "dfInd"
      ]
    },
    {
      "cell_type": "code",
      "execution_count": null,
      "metadata": {
        "id": "JU2Fy4z_qPR8"
      },
      "outputs": [],
      "source": [
        "dfIndi = dfInd.assign(dolar=dfInd[\"Indicador\"].str.split(\" \").str.get(0), euro=dfInd[\"Indicador\"].str.split(\" \").str.get(1), uf=dfInd[\"Indicador\"].str.split(\" \").str.get(2))\n",
        "dfIndi"
      ]
    },
    {
      "cell_type": "markdown",
      "source": [
        "###Data Profiling"
      ],
      "metadata": {
        "id": "Q3C1SphA8OBV"
      }
    },
    {
      "cell_type": "code",
      "execution_count": null,
      "metadata": {
        "id": "JDEbecR1qPR8"
      },
      "outputs": [],
      "source": [
        "#Data Profiling\n",
        "profile = pandas_profiling.ProfileReport(dfInd)\n",
        "profile"
      ]
    },
    {
      "cell_type": "code",
      "execution_count": null,
      "metadata": {
        "id": "8YTf_CkFqPR8"
      },
      "outputs": [],
      "source": [
        "#Hagamos un HeatMap del df\n",
        "plt.rcParams['figure.figsize'] = (70, 50)\n",
        "\n",
        "sns.heatmap(df_ind.corr(), annot = True, cmap = 'Wistia')\n",
        "plt.title('Heatmap for the Dataset', fontsize = 20)\n",
        "plt.show()"
      ]
    },
    {
      "cell_type": "code",
      "execution_count": null,
      "metadata": {
        "id": "80AFiNIiqPR8"
      },
      "outputs": [],
      "source": [
        "df_ind.corr(method = 'spearman')"
      ]
    },
    {
      "cell_type": "code",
      "execution_count": null,
      "metadata": {
        "id": "q-iKGSQEqPR8"
      },
      "outputs": [],
      "source": [
        "df5 = df_ind[['dolar', 'euro']]\n",
        "df6 = df_casen2020[['y1', 'edad']]"
      ]
    },
    {
      "cell_type": "code",
      "execution_count": null,
      "metadata": {
        "id": "sHPoph8yqPR8"
      },
      "outputs": [],
      "source": [
        "# tresbps vs target\n",
        "plt.rcParams['figure.figsize'] = (12, 9)\n",
        "sns.boxplot(df5, palette = 'viridis')\n",
        "plt.title('Relación entre dolar y euro', fontsize = 20)\n",
        "plt.show()"
      ]
    },
    {
      "cell_type": "code",
      "execution_count": null,
      "metadata": {
        "id": "XGgj6BnGqPR8"
      },
      "outputs": [],
      "source": [
        "# Agrupar por edad\n",
        "grouped_df = df_casen2020.groupby('y1')\n",
        "# Obtener el valor total de sueldos por edad\n",
        "total_sueldos = grouped_df.agg(sum)\n",
        "total_sueldos = total_sueldos.reset_index()"
      ]
    },
    {
      "cell_type": "code",
      "source": [
        "total_sueldos = total_sueldos[['y1','edad']]"
      ],
      "metadata": {
        "id": "6wknbK5FuaeN"
      },
      "execution_count": null,
      "outputs": []
    },
    {
      "cell_type": "code",
      "execution_count": null,
      "metadata": {
        "id": "_vxMG4iWqPR9"
      },
      "outputs": [],
      "source": [
        "# cholestrol vs target\n",
        "plt.rcParams['figure.figsize'] = (12, 9)\n",
        "sns.violinplot(df5, palette = 'colorblind')\n",
        "plt.title('Relación entre dolar y euro', fontsize = 20, fontweight = 10)\n",
        "plt.show()"
      ]
    },
    {
      "cell_type": "code",
      "execution_count": null,
      "metadata": {
        "id": "AX7fGUmFqPR9"
      },
      "outputs": [],
      "source": [
        "#Hagamos un HeatMap del df\n",
        "plt.rcParams['figure.figsize'] = (10, 10)\n",
        "\n",
        "sns.heatmap(df_ind.corr(), annot = True, cmap = 'Wistia')\n",
        "plt.title('Heatmap for the Dataset', fontsize = 20)\n",
        "plt.show()"
      ]
    },
    {
      "cell_type": "code",
      "execution_count": null,
      "metadata": {
        "id": "lQzbGPRJqPR9"
      },
      "outputs": [],
      "source": [
        "\n",
        "sns.scatterplot(x=\"dolar\", y=\"euro\", data=df_ind)\n",
        "plt.title('Relacion entre euro y dolar', fontsize = 20, fontweight = 10);"
      ]
    },
    {
      "cell_type": "markdown",
      "source": [
        "A pesar de estar siempre en un nivel más alto relacionado al peso de chile, claramente podemos ver que entre más sube el dólar, más sube el euro, en ese caso para poder analizar la economía chilena ya no solo podemos ver el valor del dólar, sino que también podemos analizar el euro"
      ],
      "metadata": {
        "id": "zNmc2wxf83-u"
      }
    },
    {
      "cell_type": "code",
      "execution_count": null,
      "metadata": {
        "id": "pVKmyg6IqPR9"
      },
      "outputs": [],
      "source": [
        "df_ind['fecha'] = pd.to_datetime(df_ind['fecha'])\n"
      ]
    },
    {
      "cell_type": "code",
      "execution_count": null,
      "metadata": {
        "id": "lSnuFysfqPR9"
      },
      "outputs": [],
      "source": [
        "df_ind['fecha']= df_ind['fecha'].dt.strftime(\"%Y-%m\")"
      ]
    },
    {
      "cell_type": "code",
      "execution_count": null,
      "metadata": {
        "id": "-n8FeTAFqPR9"
      },
      "outputs": [],
      "source": [
        "#Análisis de numérica vs. categórica\n",
        "df_ind.groupby('fecha')['euro'].mean()"
      ]
    },
    {
      "cell_type": "code",
      "execution_count": null,
      "metadata": {
        "id": "FP3Uxsh6qPR9"
      },
      "outputs": [],
      "source": [
        "df_ind.groupby('fecha')['dolar'].mean()"
      ]
    },
    {
      "cell_type": "code",
      "execution_count": null,
      "metadata": {
        "id": "wz4RtyABqPR9"
      },
      "outputs": [],
      "source": [
        "df_ind.groupby('fecha')['euro'].mean().sort_values(ascending=False)"
      ]
    },
    {
      "cell_type": "code",
      "execution_count": null,
      "metadata": {
        "id": "hLBDgLjgqPR9"
      },
      "outputs": [],
      "source": [
        "df_ind.groupby('fecha')['euro'].mean().sort_values(ascending=False)"
      ]
    },
    {
      "cell_type": "code",
      "execution_count": null,
      "metadata": {
        "id": "Aw73-CRwqPR9"
      },
      "outputs": [],
      "source": [
        "df_ind.groupby('fecha')['euro'].describe()"
      ]
    },
    {
      "cell_type": "code",
      "execution_count": null,
      "metadata": {
        "id": "X6mias68qPR9"
      },
      "outputs": [],
      "source": [
        "#Boxplot\n",
        "plt.figure(figsize=(10,10)) #defino el tamaño del grafico\n",
        "sns.boxplot(y = 'euro', x = 'fecha', data = df_ind)\n",
        "plt.show()"
      ]
    },
    {
      "cell_type": "markdown",
      "source": [
        "Aquí vemos los valores mensuales del euro, en este caso los meses de Julio y Agosto, esta moneda se ha disparado de sus valores promedios, veamos que pasa con el dolar en este caso:"
      ],
      "metadata": {
        "id": "QXQeyu7l9Jyk"
      }
    },
    {
      "cell_type": "code",
      "source": [
        "#Boxplot\n",
        "plt.figure(figsize=(10,10)) #defino el tamaño del grafico\n",
        "sns.boxplot(y = 'dolar', x = 'fecha', data = df_ind)\n",
        "plt.show()"
      ],
      "metadata": {
        "id": "UiMtefbYy1Rv"
      },
      "execution_count": null,
      "outputs": []
    },
    {
      "cell_type": "markdown",
      "source": [
        "Si intentaramos solapar ambos gráficos, las variaciones serían muy pocas, a pesar de que el euro y el dólar son colineales, también podemos ver a simple vista que el dólar tiene menos outliers que el euro, ahora sería interesante estudiar a qué se deben esas variaciones y ver si coinciden con algún tipo de evento o contexto en especifico, ahora también quiere decir que a pesar de ser colineales quizás los estudios para predecir nuestra economía deberían tomar solo el dólar, ya que el euro tiene muchos valores fuera de rango que nos podrían mover nuestras métricas y así, llegar a respuestas erroneas."
      ],
      "metadata": {
        "id": "OsFLurdw9e7h"
      }
    },
    {
      "cell_type": "code",
      "execution_count": null,
      "metadata": {
        "id": "rsQPPICXqPR9"
      },
      "outputs": [],
      "source": [
        "df_ind.plot.hexbin(x='euro', y='dolar', gridsize=15)"
      ]
    },
    {
      "cell_type": "code",
      "execution_count": null,
      "metadata": {
        "id": "WvIx6AHHqPR9"
      },
      "outputs": [],
      "source": [
        "eurodolar = df_ind.groupby(['fecha']).mean()[['euro', 'dolar']]"
      ]
    },
    {
      "cell_type": "code",
      "execution_count": null,
      "metadata": {
        "id": "9opcMvPFqPR9"
      },
      "outputs": [],
      "source": [
        "eurodolar.plot.bar(stacked=True)"
      ]
    },
    {
      "cell_type": "code",
      "execution_count": null,
      "metadata": {
        "id": "ccRG15ZQqPR9"
      },
      "outputs": [],
      "source": [
        "df_ind['libra_cobre'] = df_ind['libra_cobre'] * df_ind['dolar']"
      ]
    },
    {
      "cell_type": "markdown",
      "source": [
        "El valor de la libra de cobre está representado en dolares, así que aqui multiplicamos su valor por el valor del dólar en el mismo día."
      ],
      "metadata": {
        "id": "QzHZWZRoQp1q"
      }
    },
    {
      "cell_type": "code",
      "execution_count": null,
      "metadata": {
        "id": "Z0ZUMHc2qPR9"
      },
      "outputs": [],
      "source": [
        "#Generamos otro dataset\n",
        "dfline = df_ind.groupby('fecha').mean()[['euro', 'dolar',  'libra_cobre']]\n",
        "dfline"
      ]
    },
    {
      "cell_type": "code",
      "execution_count": null,
      "metadata": {
        "id": "zfGF6QKKqPR9"
      },
      "outputs": [],
      "source": [
        "dfline.plot.line();"
      ]
    },
    {
      "cell_type": "markdown",
      "source": [
        "Después de revisar las distintas métricas, es clave indicar la superioridad y estabilidad del dólar en comparación con el euro, quizás podemos a futuro comparar estas entidades y cómo han crecido en comparación de los suelods chilenos y cómo además, pueden ayudar a predecir el valor de la libra de cobre."
      ],
      "metadata": {
        "id": "w82XEgkV-R67"
      }
    },
    {
      "cell_type": "code",
      "source": [],
      "metadata": {
        "id": "mq_1V6rFQmNp"
      },
      "execution_count": null,
      "outputs": []
    }
  ],
  "metadata": {
    "accelerator": "TPU",
    "colab": {
      "provenance": [],
      "toc_visible": true,
      "include_colab_link": true
    },
    "kernelspec": {
      "display_name": "Python 3",
      "name": "python3"
    },
    "language_info": {
      "codemirror_mode": {
        "name": "ipython",
        "version": 3
      },
      "file_extension": ".py",
      "mimetype": "text/x-python",
      "name": "python",
      "nbconvert_exporter": "python",
      "pygments_lexer": "ipython3",
      "version": "3.9.12"
    }
  },
  "nbformat": 4,
  "nbformat_minor": 0
}